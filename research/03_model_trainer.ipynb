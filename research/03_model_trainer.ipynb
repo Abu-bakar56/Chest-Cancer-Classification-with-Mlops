{
 "cells": [
  {
   "cell_type": "code",
   "execution_count": 1,
   "metadata": {},
   "outputs": [],
   "source": [
    "import os"
   ]
  },
  {
   "cell_type": "code",
   "execution_count": 2,
   "metadata": {},
   "outputs": [
    {
     "data": {
      "text/plain": [
       "'c:\\\\Users\\\\MCS\\\\OneDrive\\\\Desktop\\\\Chest-Cancer-Classification-with-Mlops\\\\research'"
      ]
     },
     "execution_count": 2,
     "metadata": {},
     "output_type": "execute_result"
    }
   ],
   "source": [
    "%pwd"
   ]
  },
  {
   "cell_type": "code",
   "execution_count": 3,
   "metadata": {},
   "outputs": [],
   "source": [
    "os.chdir(\"../\")"
   ]
  },
  {
   "cell_type": "code",
   "execution_count": 4,
   "metadata": {},
   "outputs": [
    {
     "data": {
      "text/plain": [
       "'c:\\\\Users\\\\MCS\\\\OneDrive\\\\Desktop\\\\Chest-Cancer-Classification-with-Mlops'"
      ]
     },
     "execution_count": 4,
     "metadata": {},
     "output_type": "execute_result"
    }
   ],
   "source": [
    "%pwd"
   ]
  },
  {
   "cell_type": "code",
   "execution_count": 5,
   "metadata": {},
   "outputs": [],
   "source": [
    "from dataclasses import dataclass\n",
    "from pathlib import Path\n",
    "\n",
    "\n",
    "@dataclass(frozen=True)\n",
    "class TrainingConfig:\n",
    "    root_dir: Path\n",
    "    trained_model_path: Path\n",
    "    updated_base_model_path: Path\n",
    "    training_data: Path\n",
    "    params_epochs: int\n",
    "    params_batch_size: int\n",
    "    params_is_augmentation: bool\n",
    "    params_image_size: list"
   ]
  },
  {
   "cell_type": "code",
   "execution_count": 6,
   "metadata": {},
   "outputs": [],
   "source": [
    "from cnnClassifier.constants import *\n",
    "from cnnClassifier.utils.common import read_yaml, create_directories\n",
    "import tensorflow as tf"
   ]
  },
  {
   "cell_type": "code",
   "execution_count": 7,
   "metadata": {},
   "outputs": [],
   "source": [
    "class ConfigurationManager:\n",
    "    def __init__(\n",
    "        self,\n",
    "        config_filepath = CONFIG_FILE_PATH,\n",
    "        params_filepath = PARAMS_FILE_PATH):\n",
    "\n",
    "        self.config = read_yaml(config_filepath)\n",
    "        self.params = read_yaml(params_filepath)\n",
    "\n",
    "        create_directories([self.config.artifacts_root])\n",
    "\n",
    "        \n",
    "\n",
    "    def get_training_config(self) -> TrainingConfig:\n",
    "        training = self.config.training\n",
    "        prepare_base_model = self.config.prepare_base_model\n",
    "        params = self.params\n",
    "        training_data = os.path.join(self.config.data_ingestion.unzip_dir, \"Chest-CT-Scan-data\")\n",
    "        create_directories([\n",
    "            Path(training.root_dir)\n",
    "        ])\n",
    "\n",
    "        training_config = TrainingConfig(\n",
    "            root_dir=Path(training.root_dir),\n",
    "            trained_model_path=Path(training.trained_model_path),\n",
    "            updated_base_model_path=Path(prepare_base_model.updated_base_model_path),\n",
    "            training_data=Path(training_data),\n",
    "            params_epochs=params.EPOCHS,\n",
    "            params_batch_size=params.BATCH_SIZE,\n",
    "            params_is_augmentation=params.AUGMENTATION,\n",
    "            params_image_size=params.IMAGE_SIZE\n",
    "        )\n",
    "\n",
    "        return training_config"
   ]
  },
  {
   "cell_type": "code",
   "execution_count": 8,
   "metadata": {},
   "outputs": [],
   "source": [
    "import os\n",
    "import urllib.request as request\n",
    "from zipfile import ZipFile\n",
    "import tensorflow as tf\n",
    "import time"
   ]
  },
  {
   "cell_type": "code",
   "execution_count": 9,
   "metadata": {},
   "outputs": [],
   "source": [
    "class Training:\n",
    "    def __init__(self, config: TrainingConfig):\n",
    "        self.config = config\n",
    "\n",
    "    \n",
    "    def get_base_model(self):\n",
    "        self.model = tf.keras.models.load_model(\n",
    "            self.config.updated_base_model_path\n",
    "        )\n",
    "\n",
    "    def train_valid_generator(self):\n",
    "\n",
    "        datagenerator_kwargs = dict(\n",
    "            rescale = 1./255,\n",
    "            validation_split=0.20\n",
    "        )\n",
    "\n",
    "        dataflow_kwargs = dict(\n",
    "            target_size=self.config.params_image_size[:-1],\n",
    "            batch_size=self.config.params_batch_size,\n",
    "            interpolation=\"bilinear\"\n",
    "        )\n",
    "\n",
    "        valid_datagenerator = tf.keras.preprocessing.image.ImageDataGenerator(\n",
    "            **datagenerator_kwargs\n",
    "        )\n",
    "\n",
    "        self.valid_generator = valid_datagenerator.flow_from_directory(\n",
    "            directory=self.config.training_data,\n",
    "            subset=\"validation\",\n",
    "            shuffle=False,\n",
    "            **dataflow_kwargs\n",
    "        )\n",
    "\n",
    "        if self.config.params_is_augmentation:\n",
    "            train_datagenerator = tf.keras.preprocessing.image.ImageDataGenerator(\n",
    "                rotation_range=40,\n",
    "                horizontal_flip=True,\n",
    "                width_shift_range=0.2,\n",
    "                height_shift_range=0.2,\n",
    "                shear_range=0.2,\n",
    "                zoom_range=0.2,\n",
    "                **datagenerator_kwargs\n",
    "            )\n",
    "        else:\n",
    "            train_datagenerator = valid_datagenerator\n",
    "\n",
    "        self.train_generator = train_datagenerator.flow_from_directory(\n",
    "            directory=self.config.training_data,\n",
    "            subset=\"training\",\n",
    "            shuffle=True,\n",
    "            **dataflow_kwargs\n",
    "        )\n",
    "\n",
    "    \n",
    "    @staticmethod\n",
    "    def save_model(path: Path, model: tf.keras.Model):\n",
    "        model.save(path)\n",
    "\n",
    "\n",
    "\n",
    "    \n",
    "    def train(self):\n",
    "        self.steps_per_epoch = self.train_generator.samples // self.train_generator.batch_size\n",
    "        self.validation_steps = self.valid_generator.samples // self.valid_generator.batch_size\n",
    "\n",
    "        self.model.fit(\n",
    "            self.train_generator,\n",
    "            epochs=self.config.params_epochs,\n",
    "            steps_per_epoch=self.steps_per_epoch,\n",
    "            validation_steps=self.validation_steps,\n",
    "            validation_data=self.valid_generator\n",
    "        )\n",
    "\n",
    "        self.save_model(\n",
    "            path=self.config.trained_model_path,\n",
    "            model=self.model\n",
    "        )"
   ]
  },
  {
   "cell_type": "code",
   "execution_count": 10,
   "metadata": {},
   "outputs": [
    {
     "name": "stdout",
     "output_type": "stream",
     "text": [
      "[2024-12-07 00:35:16,801: INFO: common: yaml file: config\\config.yaml loaded successfully]\n"
     ]
    },
    {
     "name": "stdout",
     "output_type": "stream",
     "text": [
      "[2024-12-07 00:35:16,811: INFO: common: yaml file: params.yaml loaded successfully]\n",
      "[2024-12-07 00:35:16,816: INFO: common: created directory at: artifacts]\n",
      "[2024-12-07 00:35:16,817: INFO: common: created directory at: artifacts\\training]\n",
      "Found 68 images belonging to 2 classes.\n",
      "Found 275 images belonging to 2 classes.\n",
      "Epoch 1/30\n",
      "17/17 [==============================] - 8s 201ms/step - loss: 2.0514 - accuracy: 0.5290 - val_loss: 0.5820 - val_accuracy: 0.6094\n",
      "Epoch 2/30\n",
      "17/17 [==============================] - 3s 155ms/step - loss: 0.6999 - accuracy: 0.5830 - val_loss: 0.5296 - val_accuracy: 1.0000\n",
      "Epoch 3/30\n",
      "17/17 [==============================] - 3s 156ms/step - loss: 0.6261 - accuracy: 0.6873 - val_loss: 0.4513 - val_accuracy: 0.8750\n",
      "Epoch 4/30\n",
      "17/17 [==============================] - 3s 156ms/step - loss: 0.5344 - accuracy: 0.6988 - val_loss: 0.3189 - val_accuracy: 1.0000\n",
      "Epoch 5/30\n",
      "17/17 [==============================] - 3s 156ms/step - loss: 0.5393 - accuracy: 0.7297 - val_loss: 0.2972 - val_accuracy: 0.8750\n",
      "Epoch 6/30\n",
      "17/17 [==============================] - 3s 161ms/step - loss: 0.5424 - accuracy: 0.7259 - val_loss: 0.2771 - val_accuracy: 0.8750\n",
      "Epoch 7/30\n",
      "17/17 [==============================] - 3s 151ms/step - loss: 0.4772 - accuracy: 0.7838 - val_loss: 0.3478 - val_accuracy: 0.8594\n",
      "Epoch 8/30\n",
      "17/17 [==============================] - 3s 155ms/step - loss: 0.6079 - accuracy: 0.6950 - val_loss: 0.2735 - val_accuracy: 1.0000\n",
      "Epoch 9/30\n",
      "17/17 [==============================] - 3s 157ms/step - loss: 0.4880 - accuracy: 0.7645 - val_loss: 0.4641 - val_accuracy: 0.7031\n",
      "Epoch 10/30\n",
      "17/17 [==============================] - 3s 153ms/step - loss: 0.4400 - accuracy: 0.7954 - val_loss: 0.2901 - val_accuracy: 0.9844\n",
      "Epoch 11/30\n",
      "17/17 [==============================] - 3s 157ms/step - loss: 0.5462 - accuracy: 0.7452 - val_loss: 0.4224 - val_accuracy: 0.7969\n",
      "Epoch 12/30\n",
      "17/17 [==============================] - 3s 161ms/step - loss: 0.5245 - accuracy: 0.7375 - val_loss: 0.4054 - val_accuracy: 0.7500\n",
      "Epoch 13/30\n",
      "17/17 [==============================] - 3s 156ms/step - loss: 0.4144 - accuracy: 0.7954 - val_loss: 0.1465 - val_accuracy: 0.8750\n",
      "Epoch 14/30\n",
      "17/17 [==============================] - 3s 154ms/step - loss: 0.4536 - accuracy: 0.8108 - val_loss: 0.2940 - val_accuracy: 0.8750\n",
      "Epoch 15/30\n",
      "17/17 [==============================] - 3s 154ms/step - loss: 0.4298 - accuracy: 0.7915 - val_loss: 0.1706 - val_accuracy: 1.0000\n",
      "Epoch 16/30\n",
      "17/17 [==============================] - 3s 154ms/step - loss: 0.4079 - accuracy: 0.8340 - val_loss: 0.1414 - val_accuracy: 0.8750\n",
      "Epoch 17/30\n",
      "17/17 [==============================] - 3s 153ms/step - loss: 0.4017 - accuracy: 0.8263 - val_loss: 0.3455 - val_accuracy: 0.8125\n",
      "Epoch 18/30\n",
      "17/17 [==============================] - 3s 153ms/step - loss: 0.4324 - accuracy: 0.8031 - val_loss: 0.1235 - val_accuracy: 1.0000\n",
      "Epoch 19/30\n",
      "17/17 [==============================] - 3s 151ms/step - loss: 0.5385 - accuracy: 0.7259 - val_loss: 0.1159 - val_accuracy: 1.0000\n",
      "Epoch 20/30\n",
      "17/17 [==============================] - 3s 155ms/step - loss: 0.4448 - accuracy: 0.7954 - val_loss: 0.1284 - val_accuracy: 0.9375\n",
      "Epoch 21/30\n",
      "17/17 [==============================] - 3s 150ms/step - loss: 0.3735 - accuracy: 0.8263 - val_loss: 0.0950 - val_accuracy: 1.0000\n",
      "Epoch 22/30\n",
      "17/17 [==============================] - 3s 151ms/step - loss: 0.4476 - accuracy: 0.7838 - val_loss: 0.1765 - val_accuracy: 1.0000\n",
      "Epoch 23/30\n",
      "17/17 [==============================] - 3s 149ms/step - loss: 0.4390 - accuracy: 0.8301 - val_loss: 0.1032 - val_accuracy: 1.0000\n",
      "Epoch 24/30\n",
      "17/17 [==============================] - 3s 150ms/step - loss: 0.2895 - accuracy: 0.8919 - val_loss: 0.1029 - val_accuracy: 1.0000\n",
      "Epoch 25/30\n",
      "17/17 [==============================] - 3s 146ms/step - loss: 0.3623 - accuracy: 0.8456 - val_loss: 0.0847 - val_accuracy: 1.0000\n",
      "Epoch 26/30\n",
      "17/17 [==============================] - 3s 149ms/step - loss: 0.2655 - accuracy: 0.8764 - val_loss: 0.7198 - val_accuracy: 0.6094\n",
      "Epoch 27/30\n",
      "17/17 [==============================] - 3s 145ms/step - loss: 0.3104 - accuracy: 0.8571 - val_loss: 0.0669 - val_accuracy: 0.9844\n",
      "Epoch 28/30\n",
      "17/17 [==============================] - 3s 144ms/step - loss: 0.3305 - accuracy: 0.8803 - val_loss: 0.0952 - val_accuracy: 1.0000\n",
      "Epoch 29/30\n",
      "17/17 [==============================] - 2s 143ms/step - loss: 0.5663 - accuracy: 0.7297 - val_loss: 0.3065 - val_accuracy: 0.9375\n",
      "Epoch 30/30\n",
      "17/17 [==============================] - 2s 144ms/step - loss: 0.2865 - accuracy: 0.8919 - val_loss: 0.0695 - val_accuracy: 1.0000\n"
     ]
    }
   ],
   "source": [
    "try:\n",
    "    config = ConfigurationManager()\n",
    "    training_config = config.get_training_config()\n",
    "    training = Training(config=training_config)\n",
    "    training.get_base_model()\n",
    "    training.train_valid_generator()\n",
    "    training.train()\n",
    "    \n",
    "except Exception as e:\n",
    "    raise e"
   ]
  },
  {
   "cell_type": "code",
   "execution_count": null,
   "metadata": {},
   "outputs": [],
   "source": []
  }
 ],
 "metadata": {
  "kernelspec": {
   "display_name": "cancer",
   "language": "python",
   "name": "python3"
  },
  "language_info": {
   "codemirror_mode": {
    "name": "ipython",
    "version": 3
   },
   "file_extension": ".py",
   "mimetype": "text/x-python",
   "name": "python",
   "nbconvert_exporter": "python",
   "pygments_lexer": "ipython3",
   "version": "3.10.15"
  }
 },
 "nbformat": 4,
 "nbformat_minor": 2
}
