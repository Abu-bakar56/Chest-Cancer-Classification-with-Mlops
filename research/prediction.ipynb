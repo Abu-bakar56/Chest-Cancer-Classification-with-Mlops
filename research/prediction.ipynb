{
 "cells": [
  {
   "cell_type": "code",
   "execution_count": 1,
   "metadata": {},
   "outputs": [],
   "source": [
    "import os\n"
   ]
  },
  {
   "cell_type": "code",
   "execution_count": 2,
   "metadata": {},
   "outputs": [
    {
     "data": {
      "text/plain": [
       "'c:\\\\Users\\\\MCS\\\\OneDrive\\\\Desktop\\\\Chest-Cancer-Classification-with-Mlops\\\\research'"
      ]
     },
     "execution_count": 2,
     "metadata": {},
     "output_type": "execute_result"
    }
   ],
   "source": [
    "%pwd"
   ]
  },
  {
   "cell_type": "code",
   "execution_count": 3,
   "metadata": {},
   "outputs": [],
   "source": [
    "os.chdir(\"../\")"
   ]
  },
  {
   "cell_type": "code",
   "execution_count": 4,
   "metadata": {},
   "outputs": [
    {
     "data": {
      "text/plain": [
       "'c:\\\\Users\\\\MCS\\\\OneDrive\\\\Desktop\\\\Chest-Cancer-Classification-with-Mlops'"
      ]
     },
     "execution_count": 4,
     "metadata": {},
     "output_type": "execute_result"
    }
   ],
   "source": [
    "%pwd"
   ]
  },
  {
   "cell_type": "code",
   "execution_count": 5,
   "metadata": {},
   "outputs": [
    {
     "name": "stdout",
     "output_type": "stream",
     "text": [
      "Model loaded successfully!\n"
     ]
    }
   ],
   "source": [
    "import tensorflow as tf\n",
    "\n",
    "# Use a raw string for the file path to handle backslashes in Windows paths\n",
    "model_path = r'artifacts\\training\\model.h5'\n",
    "\n",
    "# Load the model\n",
    "model = tf.keras.models.load_model(model_path)\n",
    "\n",
    "print(\"Model loaded successfully!\")\n"
   ]
  },
  {
   "cell_type": "code",
   "execution_count": 10,
   "metadata": {},
   "outputs": [
    {
     "name": "stdout",
     "output_type": "stream",
     "text": [
      "1/1 [==============================] - 0s 14ms/step\n",
      "Raw Output: [[0.20507152 0.0583148  0.6785152  0.05809855]]\n",
      "Predicted Class: [2]\n"
     ]
    }
   ],
   "source": [
    "from tensorflow.keras.utils import load_img, img_to_array\n",
    "import numpy as np\n",
    "\n",
    "# Correct image path\n",
    "image_path = r'C:\\Users\\MCS\\OneDrive\\Desktop\\Chest-Cancer-Classification-with-Mlops\\artifacts\\data_ingestion\\Chest-CT-Scan-data\\normal\\2 (2).png'\n",
    "\n",
    "# Load and preprocess the image\n",
    "test_image = load_img(image_path, target_size=(224, 224))  # Resize the image (height, width)\n",
    "test_image = img_to_array(test_image)  # Convert the image to an array\n",
    "test_image = test_image / 255.0  # Normalize the image to [0, 1]\n",
    "\n",
    "# Add batch dimension\n",
    "test_image = np.expand_dims(test_image, axis=0)\n",
    "\n",
    "# Make predictions\n",
    "output = model.predict(test_image)\n",
    "print(\"Raw Output:\", output)  # Check the raw output\n",
    "\n",
    "# Get the predicted class\n",
    "result = np.argmax(output, axis=1)\n",
    "print(\"Predicted Class:\", result)\n"
   ]
  },
  {
   "cell_type": "code",
   "execution_count": null,
   "metadata": {},
   "outputs": [],
   "source": []
  }
 ],
 "metadata": {
  "kernelspec": {
   "display_name": "cancer",
   "language": "python",
   "name": "python3"
  },
  "language_info": {
   "codemirror_mode": {
    "name": "ipython",
    "version": 3
   },
   "file_extension": ".py",
   "mimetype": "text/x-python",
   "name": "python",
   "nbconvert_exporter": "python",
   "pygments_lexer": "ipython3",
   "version": "3.10.15"
  }
 },
 "nbformat": 4,
 "nbformat_minor": 2
}
